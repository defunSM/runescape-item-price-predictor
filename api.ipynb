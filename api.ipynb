{
 "cells": [
  {
   "cell_type": "code",
   "execution_count": 4,
   "metadata": {},
   "outputs": [],
   "source": [
    "import requests\n",
    "import pandas as pd\n",
    "import seaborn as sns\n",
    "from datetime import datetime, timedelta"
   ]
  },
  {
   "cell_type": "code",
   "execution_count": 2,
   "metadata": {},
   "outputs": [
    {
     "name": "stdout",
     "output_type": "stream",
     "text": [
      "      id                   name\n",
      "0  10344         3rd age amulet\n",
      "1  20011            3rd age axe\n",
      "2  12424            3rd age bow\n",
      "3  12437          3rd age cloak\n",
      "4  23345  3rd age druidic cloak\n",
      "\n",
      "Total number of items: 4140\n"
     ]
    }
   ],
   "source": [
    "# Get a list of all items and the itemID in Old School RuneScape from the OSRS Wiki API\n",
    "\n",
    "import requests\n",
    "import pandas as pd\n",
    "\n",
    "def get_item_info(item_id):\n",
    "    url = f\"https://prices.runescape.wiki/api/v1/osrs/mapping\"\n",
    "    response = requests.get(url)\n",
    "    if response.status_code == 200:\n",
    "        data = response.json()\n",
    "        for item in data:\n",
    "            if item['id'] == item_id:\n",
    "                return {\n",
    "                    'id': item['id'],\n",
    "                    'name': item['name']\n",
    "                }\n",
    "    return None\n",
    "\n",
    "# Get all item mappings\n",
    "url = \"https://prices.runescape.wiki/api/v1/osrs/mapping\"\n",
    "response = requests.get(url)\n",
    "if response.status_code == 200:\n",
    "    all_items = response.json()\n",
    "else:\n",
    "    print(\"Failed to retrieve item data\")\n",
    "    exit()\n",
    "\n",
    "# Create a list of dictionaries with id and name\n",
    "items = [{'id': item['id'], 'name': item['name']} for item in all_items]\n",
    "\n",
    "# Create a DataFrame\n",
    "df = pd.DataFrame(items)\n",
    "\n",
    "# Display the first few rows of the table\n",
    "print(df.head())\n",
    "\n",
    "# Optionally, save to a CSV file\n",
    "# df.to_csv('osrs_items.csv', index=False)\n",
    "\n",
    "# Print total number of items\n",
    "print(f\"\\nTotal number of items: {len(df)}\")"
   ]
  },
  {
   "cell_type": "code",
   "execution_count": 11,
   "metadata": {},
   "outputs": [
    {
     "name": "stdout",
     "output_type": "stream",
     "text": [
      "385\n",
      "                     Average High Price  Average Low Price  High Price Volume  \\\n",
      "Date                                                                            \n",
      "2024-06-09 15:00:00                 936                923             134290   \n",
      "2024-06-09 16:00:00                 949                938             102186   \n",
      "2024-06-09 17:00:00                 967                950              82215   \n",
      "2024-06-09 18:00:00                 976                962             172519   \n",
      "2024-06-09 19:00:00                 968                958              99298   \n",
      "...                                 ...                ...                ...   \n",
      "2024-06-24 15:00:00                 846                838             110537   \n",
      "2024-06-24 16:00:00                 849                836              72165   \n",
      "2024-06-24 17:00:00                 847                838              90178   \n",
      "2024-06-24 18:00:00                 851                843              60911   \n",
      "2024-06-24 19:00:00                 855                841              50211   \n",
      "\n",
      "                     Low Price Volume  \n",
      "Date                                   \n",
      "2024-06-09 15:00:00             45155  \n",
      "2024-06-09 16:00:00            117254  \n",
      "2024-06-09 17:00:00             92649  \n",
      "2024-06-09 18:00:00            170173  \n",
      "2024-06-09 19:00:00            109721  \n",
      "...                               ...  \n",
      "2024-06-24 15:00:00             59774  \n",
      "2024-06-24 16:00:00             59944  \n",
      "2024-06-24 17:00:00            117133  \n",
      "2024-06-24 18:00:00            100104  \n",
      "2024-06-24 19:00:00             94166  \n",
      "\n",
      "[365 rows x 4 columns]\n"
     ]
    },
    {
     "data": {
      "text/plain": [
       "<Axes: xlabel='Average High Price', ylabel='Count'>"
      ]
     },
     "execution_count": 11,
     "metadata": {},
     "output_type": "execute_result"
    },
    {
     "data": {
      "image/png": "[encoded data removed]",
      "text/plain": [
       "<Figure size 640x480 with 1 Axes>"
      ]
     },
     "metadata": {},
     "output_type": "display_data"
    }
   ],
   "source": [
    "# Code that will show the price history of an item\n",
    "\n",
    "import requests\n",
    "import pandas as pd\n",
    "from datetime import datetime, timedelta\n",
    "\n",
    "def get_item_id(item_name):\n",
    "    url = \"https://prices.runescape.wiki/api/v1/osrs/mapping\"\n",
    "    response = requests.get(url)\n",
    "    if response.status_code == 200:\n",
    "        data = response.json()\n",
    "        for item in data:\n",
    "            if item['name'].lower() == item_name.lower():\n",
    "                return item['id']\n",
    "    return None\n",
    "\n",
    "def get_historical_data(item_name):\n",
    "    item_id = get_item_id(item_name)\n",
    "    if not item_id:\n",
    "        print(f\"Item '{item_name}' not found.\")\n",
    "        return None\n",
    "\n",
    "    # Calculate the timestamp for 180 days ago\n",
    "    end_date = datetime.now()\n",
    "    start_date = end_date - timedelta(days=180)\n",
    "    timestamp = int(start_date.timestamp())\n",
    "\n",
    "    print(item_id)\n",
    "\n",
    "    url = f\"https://prices.runescape.wiki/api/v1/osrs/timeseries?timestep=1h&id={item_id}\"\n",
    "    response = requests.get(url, allow_redirects=False)\n",
    "    \n",
    "    if response.status_code == 200:\n",
    "        data = response.json()['data']\n",
    "        df = pd.DataFrame(data)\n",
    "        \n",
    "        # Convert timestamp to datetime\n",
    "        df['timestamp'] = pd.to_datetime(df['timestamp'], unit='s')\n",
    "        \n",
    "        # Rename columns for clarity\n",
    "        df = df.rename(columns={\n",
    "            'timestamp': 'Date',\n",
    "            'avgHighPrice': 'Average High Price',\n",
    "            'avgLowPrice': 'Average Low Price',\n",
    "            'highPriceVolume': 'High Price Volume',\n",
    "            'lowPriceVolume': 'Low Price Volume'\n",
    "        })\n",
    "        \n",
    "        # Set Date as index\n",
    "        df.set_index('Date', inplace=True)\n",
    "        \n",
    "        return df\n",
    "    else:\n",
    "        print(f\"Failed to retrieve data. Status code: {response.status_code}\")\n",
    "        return None\n",
    "\n",
    "# Example usage\n",
    "item_name = input(\"Enter the name of the OSRS item: \")\n",
    "historical_data = get_historical_data(item_name)\n",
    "\n",
    "if historical_data is not None:\n",
    "    print(historical_data)\n",
    "    \n",
    "    # Optionally, save to CSV\n",
    "    # historical_data.to_csv(f\"{item_name}_historical_data.csv\")\n",
    "\n",
    "sns.histplot(historical_data['Average High Price'], kde=True)"
   ]
  }
 ],
 "metadata": {
  "kernelspec": {
   "display_name": "Python 3",
   "language": "python",
   "name": "python3"
  },
  "language_info": {
   "codemirror_mode": {
    "name": "ipython",
    "version": 3
   },
   "file_extension": ".py",
   "mimetype": "text/x-python",
   "name": "python",
   "nbconvert_exporter": "python",
   "pygments_lexer": "ipython3",
   "version": "3.11.5"
  }
 },
 "nbformat": 4,
 "nbformat_minor": 2
}
